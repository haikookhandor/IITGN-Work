{
  "nbformat": 4,
  "nbformat_minor": 0,
  "metadata": {
    "colab": {
      "provenance": []
    },
    "kernelspec": {
      "name": "python3",
      "display_name": "Python 3"
    },
    "language_info": {
      "name": "python"
    }
  },
  "cells": [
    {
      "cell_type": "markdown",
      "source": [
        "Name: Haikoo Ashok Khandor <br>\n",
        "Roll number: 20110071"
      ],
      "metadata": {
        "id": "2OB9XgPc1afV"
      }
    },
    {
      "cell_type": "markdown",
      "source": [
        "## Pip installs"
      ],
      "metadata": {
        "id": "OEcZiDH-Q1tU"
      }
    },
    {
      "cell_type": "code",
      "source": [
        "%pip install sympy"
      ],
      "metadata": {
        "id": "L2f5SVwgQ3Ze",
        "colab": {
          "base_uri": "https://localhost:8080/"
        },
        "outputId": "3713cab2-a7c4-4bd9-ac23-5603cd25362f"
      },
      "execution_count": 1,
      "outputs": [
        {
          "output_type": "stream",
          "name": "stdout",
          "text": [
            "Looking in indexes: https://pypi.org/simple, https://us-python.pkg.dev/colab-wheels/public/simple/\n",
            "Requirement already satisfied: sympy in /usr/local/lib/python3.8/dist-packages (1.7.1)\n",
            "Requirement already satisfied: mpmath>=0.19 in /usr/local/lib/python3.8/dist-packages (from sympy) (1.2.1)\n"
          ]
        }
      ]
    },
    {
      "cell_type": "markdown",
      "source": [
        "## Imports"
      ],
      "metadata": {
        "id": "rJ53c5a1QpNd"
      }
    },
    {
      "cell_type": "code",
      "source": [
        "# Necessary Imports\n",
        "import jax\n",
        "import jax.numpy as jnp\n",
        "from sympy import diff, sin, exp \n",
        "from sympy.abc import x,y \n",
        "import matplotlib.pyplot as plt\n",
        "import numpy as np\n",
        "import pandas as pd\n",
        "import time"
      ],
      "metadata": {
        "id": "454tuIRxQzFq"
      },
      "execution_count": 2,
      "outputs": []
    },
    {
      "cell_type": "markdown",
      "source": [
        "---"
      ],
      "metadata": {
        "id": "OZHnXU_X1iJL"
      }
    },
    {
      "cell_type": "markdown",
      "source": [
        "**Q1.** How many multiplications and additions do you need to perform a matrix multiplication between a (n, k) and (k, m) matrix? Explain."
      ],
      "metadata": {
        "id": "UGHfF9SxVIbO"
      }
    },
    {
      "cell_type": "markdown",
      "source": [
        "The resultant matrix has the dimensions $n \\times m$. <br>\n",
        "Thus for each entry(total $n \\times m$), $k$ multiplications will be performed. For Addition, again for each entry(total $n \\times m$), $k-1$ additions will be performed. \n",
        "\n",
        "Multiplication: $n\\times m\\times k$\n",
        "\n",
        "\n",
        "Addition: $n\\times m\\times (k-1)$\n",
        "\n",
        "For multiplication each row has $k$ elements whereas the column of the second matrix also contains $k$ elements so there k multiplications. As for addition there are now $k$ numbers to be added, we know that the number of additions is simply one less than the total number of numbers hence $k-1$."
      ],
      "metadata": {
        "id": "NPHGS8jAV1AE"
      }
    },
    {
      "cell_type": "markdown",
      "source": [
        "---"
      ],
      "metadata": {
        "id": "UMiJZhOwMFSR"
      }
    },
    {
      "cell_type": "markdown",
      "source": [
        "**Q2.** Write Python code to multiply the above two matrices. Solve using list of lists and then use numpy. Compare the timing of both solutions. Which one is faster? Why?"
      ],
      "metadata": {
        "id": "lzwhBholz-7Q"
      }
    },
    {
      "cell_type": "code",
      "source": [
        "n = 7\n",
        "k = 10\n",
        "m = 9\n",
        "A = np.random.randint(low = -5000, high = 5000, size=(n,k)) # Matrix-1\n",
        "B = np.random.randint(low = -5000, high = 5000, size=(k,m)) # Matrix-2\n",
        "C = np.zeros((n,m)) # Matrix-3\n",
        "# time module returns the time in nanoseconds so we multiply it by 10^6 to report the time in miliseconds"
      ],
      "metadata": {
        "id": "UZenIk9A0CUY"
      },
      "execution_count": 3,
      "outputs": []
    },
    {
      "cell_type": "code",
      "source": [
        "# List of Lists method\n",
        "def multiply_mat(m1,m2):\n",
        "  for i in range(0, n):\n",
        "      for j in range(0, m):\n",
        "          for l in range(0, k):\n",
        "              C[i][j] += m1[i][l]*m2[l][j]"
      ],
      "metadata": {
        "id": "RIioUE_I4fcY"
      },
      "execution_count": 4,
      "outputs": []
    },
    {
      "cell_type": "code",
      "source": [
        "tot_time = 0 \n",
        "time_square = 0 \n",
        "for i in range(5000): # 5000 iterations\n",
        "  start = time.perf_counter()\n",
        "  multiply_mat(A,B)\n",
        "  end = time.perf_counter()\n",
        "  tot_time += end-start\n",
        "  time_square += (end-start)**2"
      ],
      "metadata": {
        "id": "kK_Fi8C94tda"
      },
      "execution_count": 5,
      "outputs": []
    },
    {
      "cell_type": "code",
      "source": [
        "mean_time = tot_time/5000 # Taking mean\n",
        "mean_square = time_square/5000 \n",
        "std = np.sqrt((mean_square - mean_time**2))*(10**6) # Finding the standard deviation in miliseconds\n",
        "mean_time = mean_time*(10**6) # Finding the mean/expectation in miliseconds\n",
        "print(f\" The mean time for the list of list matrix multiplication method is {str(mean_time)} milliseconds\")\n",
        "print(f\" The standard deviation for the list of list matrix multiplication method is {str(std)} milliseconds\")"
      ],
      "metadata": {
        "colab": {
          "base_uri": "https://localhost:8080/"
        },
        "id": "r_nCqMBu5Y8f",
        "outputId": "d6bd8b9d-3c97-4dff-9ebf-c7ba0328dceb"
      },
      "execution_count": 6,
      "outputs": [
        {
          "output_type": "stream",
          "name": "stdout",
          "text": [
            " The mean time for the list of list matrix multiplication method is 783.8477912031522 milliseconds\n",
            " The standard deviation for the list of list matrix multiplication method is 354.570384799393 milliseconds\n"
          ]
        }
      ]
    },
    {
      "cell_type": "code",
      "source": [
        "time_arr = np.zeros((5000,))\n",
        "for i in range(5000): # 5000 iterations\n",
        "  start1 = time.perf_counter()\n",
        "  temp = np.matmul(A,B)\n",
        "  end1 = time.perf_counter()\n",
        "  time_arr[i] = end1 - start1\n",
        "print(f\"The mean time for inbuilt numpy matrix multiplication is {str(time_arr.mean()*(10**6))} milliseconds\")\n",
        "print(f\"The standard deviation for inbuilt numpy matrix multiplication is {str(time_arr.std()*(10**6))} milliseconds\")"
      ],
      "metadata": {
        "colab": {
          "base_uri": "https://localhost:8080/"
        },
        "id": "Twhq7-Y99WrN",
        "outputId": "c465dab9-10da-4d11-fdce-5232e67ae553"
      },
      "execution_count": 7,
      "outputs": [
        {
          "output_type": "stream",
          "name": "stdout",
          "text": [
            "The mean time for inbuilt numpy matrix multiplication is 3.92115939539508 milliseconds\n",
            "The standard deviation for inbuilt numpy matrix multiplication is 9.058800918427334 milliseconds\n"
          ]
        }
      ]
    },
    {
      "cell_type": "markdown",
      "source": [
        "Numpy matmul is quite faster than the list of lists methods because of these reasons:\n",
        "\n",
        "1. The trivial list of lists algorithm uses three for loops that is O($n^3$). Thus it scales cubic with respect to n so scales poorly.\n",
        "2. Numpy is built in C and converts its internal data to ctypes. Contrary to NumPy, lists do not provide vectorized operations like element-wise addition and multiplication.\n",
        "\n",
        "Reference: \n",
        "\n",
        "https://stackoverflow.com/questions/42227432/why-is-it-that-np-dot-is-so-much-faster-than-finding-the-dot-product-using-for-l#:~:text=Because%20np.,faster%20than%20the%20Python%20interpreter"
      ],
      "metadata": {
        "id": "3sLHL0QnBUpi"
      }
    },
    {
      "cell_type": "markdown",
      "source": [
        "---"
      ],
      "metadata": {
        "id": "qqshpZq8IKtT"
      }
    },
    {
      "cell_type": "markdown",
      "source": [
        "**Q3.** Finding the highest element in a list requires one pass of the array. Finding the second highest element requires 2 passes of the the array. Using this method, what is the time complexity of finding the median of the array? Can you suggest a better method? Can you implement both these methods in Python and compare against numpy.median routine in terms of time?"
      ],
      "metadata": {
        "id": "-xTkTlLdk5N6"
      }
    },
    {
      "cell_type": "markdown",
      "source": [
        "In order to find the median, for the worst case, it may take us atmost $n/2$ tries to find the median. Each pass involves iterating through the entire array again in the worst case which amounts to a time complexity of O($n$) which multiplies to give O($n^2$). This is the trivial or brute force approach.\n",
        "\n",
        "A better method maybe sorting the array first. This takes O($nlog(n)$) time. After sorting we know that if there are odd number of elements in the array, the median is at index $n//2 +1$ i.e. arr[$n//2 +1$]. On the other hand if it has even number of elements then it is the average of elements at indexes $n//2$ and $n//2 +1$ i.e. arr[$n//2$] and arr[$n//2 +1$].\n",
        "\n",
        "Numpy median has an average time complexity of O($n$).\n",
        "\n",
        "Ref:\n",
        "\n",
        "https://stackoverflow.com/questions/50899486/why-does-numpy-median-scale-so-well\n",
        "\n"
      ],
      "metadata": {
        "id": "1oRfw3NFk8wO"
      }
    },
    {
      "cell_type": "code",
      "source": [
        "# O(n^2)\n",
        "np.random.seed(0)\n",
        "A = list(np.random.randint(low = 1, high = 20, size = (10,))) # array consisting of numbers from 1 to 20 picked randomly 10 times\n",
        "def med_brute(a):\n",
        "  n = len(a)\n",
        "  if(n%2==0):\n",
        "    passes = n//2 # passes of the array\n",
        "    while(passes>=0):\n",
        "      p = 0\n",
        "      for i in range(len(a)):\n",
        "        if(a[i]>p):\n",
        "          p = a[i]\n",
        "      a.remove(p) # removing highest element\n",
        "      if passes==1:\n",
        "        q = p # storing for last two elements\n",
        "      passes-=1\n",
        "    return (p+q)/2 # even so average\n",
        "  else:\n",
        "    passes = n//2 -1\n",
        "    while(passes>=0):\n",
        "      p = 0\n",
        "      for i in range(len(a)):\n",
        "        if(a[i]>p):\n",
        "          p = a[i]\n",
        "      a.remove(p) # removing highest element\n",
        "      passes-=1\n",
        "    return p # odd so we get only one element as the median\n",
        "med = med_brute(A)\n",
        "print(med)"
      ],
      "metadata": {
        "colab": {
          "base_uri": "https://localhost:8080/"
        },
        "id": "20kkXhMYq5XT",
        "outputId": "a5061541-1e0e-4e1c-b680-5a6840b190c4"
      },
      "execution_count": 8,
      "outputs": [
        {
          "output_type": "stream",
          "name": "stdout",
          "text": [
            "7.5\n"
          ]
        }
      ]
    },
    {
      "cell_type": "code",
      "source": [
        "np.random.seed(0)\n",
        "A = list(np.random.randint(low = 1, high = 20, size = (10,))) # array consisting of numbers from 1 to 20 picked randomly 10 times\n",
        "def med_sort(a):\n",
        "  a = sorted(a) # sorted array now\n",
        "  n = len(a)\n",
        "  if(n%2==0): # odd and even\n",
        "    return ((a[n//2-1]+a[n//2])/2)\n",
        "  else:\n",
        "    return a[n//2-1]\n",
        "med = med_sort(A)\n",
        "print(med)"
      ],
      "metadata": {
        "colab": {
          "base_uri": "https://localhost:8080/"
        },
        "id": "a7QcKU4hu-En",
        "outputId": "7c443d98-6306-4417-f86f-70e34583595e"
      },
      "execution_count": 9,
      "outputs": [
        {
          "output_type": "stream",
          "name": "stdout",
          "text": [
            "7.5\n"
          ]
        }
      ]
    },
    {
      "cell_type": "code",
      "source": [
        "np.random.seed(0)\n",
        "A = list(np.random.randint(low = 1, high = 20, size = (10,)))\n",
        "print(np.median(A))"
      ],
      "metadata": {
        "colab": {
          "base_uri": "https://localhost:8080/"
        },
        "id": "LGCdNYfNwv2E",
        "outputId": "d55b6fb1-5b96-40a4-b545-9a8d63104a53"
      },
      "execution_count": 10,
      "outputs": [
        {
          "output_type": "stream",
          "name": "stdout",
          "text": [
            "7.5\n"
          ]
        }
      ]
    },
    {
      "cell_type": "code",
      "source": [
        "# Time Analysis between the three functions\n",
        "# seed is kept as 0 before each list for same array \n",
        "time1 = np.zeros((2000,)) # storing the time \n",
        "time2 = np.zeros((2000,)) \n",
        "time3 = np.zeros((2000,)) \n",
        "\n",
        "for i in range(2000): # 2000 interations\n",
        "  # brute-force\n",
        "  np.random.seed(0)\n",
        "  a = list(np.random.randint(low = 1, high = 5000, size = (200,))) # array consisting of numbers from 1 to 5000 picked randomly 200 times\n",
        "  start1 = time.perf_counter()\n",
        "  med_brute(a)\n",
        "  end1 = time.perf_counter()\n",
        "  time1[i] = end1 - start1\n",
        "  # sorting approach\n",
        "  np.random.seed(0)\n",
        "  a = list(np.random.randint(low = 1, high = 5000, size = (200,))) # array consisting of numbers from 1 to 5000 picked randomly 200 times\n",
        "  start2 = time.perf_counter()\n",
        "  med_sort(a)\n",
        "  end2 = time.perf_counter()\n",
        "  time2[i] = end2 - start2\n",
        "  # numpy median approach\n",
        "  np.random.seed(0)\n",
        "  a = list(np.random.randint(low = 1, high = 5000, size = (200,))) # array consisting of numbers from 1 to 5000 picked randomly 200 times\n",
        "  start3 = time.perf_counter()\n",
        "  np.median(a)\n",
        "  end3 = time.perf_counter()\n",
        "  time3[i] = end3 - start3\n",
        "\n",
        "print(f\"The mean time for brute force O(n^2) approach is {str(time1.mean()*(10**6))} milliseconds.\")\n",
        "print(f\"The standard deviation for brute force O(n^2) approach is {str(time1.std()*(10**6))} milliseconds.\")\n",
        "\n",
        "print(f\"The mean time for sorting O(nlog(n)) approach is {str(time2.mean()*(10**6))} milliseconds.\")\n",
        "print(f\"The standard deviation for sorting O(nlog(n)) approach is {str(time2.std()*(10**6))} milliseconds.\")\n",
        "\n",
        "print(f\"The mean time for numpy inbuilt median approach is {str(time3.mean()*(10**6))} milliseconds.\")\n",
        "print(f\"The standard deviation for numpy inbuilt median approach is {str(time3.std()*(10**6))} milliseconds.\")"
      ],
      "metadata": {
        "colab": {
          "base_uri": "https://localhost:8080/"
        },
        "id": "mMsp_gAcwyzm",
        "outputId": "0796269c-dfdc-4be7-b1df-9085bec80435"
      },
      "execution_count": 15,
      "outputs": [
        {
          "output_type": "stream",
          "name": "stdout",
          "text": [
            "The mean time for brute force O(n^2) approach is 1351.9016324917175 milliseconds.\n",
            "The standard deviation for brute force O(n^2) approach is 424.4859266464988 milliseconds.\n",
            "The mean time for sorting O(nlog(n)) approach is 46.33074801040493 milliseconds.\n",
            "The standard deviation for sorting O(nlog(n)) approach is 62.82980611192418 milliseconds.\n",
            "The mean time for numpy inbuilt median approach is 68.2614824763732 milliseconds.\n",
            "The standard deviation for numpy inbuilt median approach is 51.59261558799709 milliseconds.\n"
          ]
        }
      ]
    },
    {
      "cell_type": "markdown",
      "source": [
        "---"
      ],
      "metadata": {
        "id": "Pi80oZ8kz0Lv"
      }
    },
    {
      "cell_type": "markdown",
      "source": [
        "**Q4.** What is the gradient of the following function with respect to x and y? <br>\n",
        "  $ x^{2}y + y^{3}sin(x) $\n"
      ],
      "metadata": {
        "id": "Gm0l7zCC7e9B"
      }
    },
    {
      "cell_type": "markdown",
      "source": [
        "**A4.** \n",
        "The Gradient of the following function with respect to **x** is given by: $2xy + y^3cos(x) $\n",
        "\n",
        "The Gradient of the following function with respect to **y** is given by: $x^2 + 3y^2sin(x) $"
      ],
      "metadata": {
        "id": "QwiM7Zs38SlC"
      }
    },
    {
      "cell_type": "markdown",
      "source": [
        "---"
      ],
      "metadata": {
        "id": "VAYuCK0OMGcC"
      }
    },
    {
      "cell_type": "markdown",
      "source": [
        "**Q5.**Use JAX to confirm the gradient evaluated by your method matches the analytical solution corresponding to a few random values of x and y."
      ],
      "metadata": {
        "id": "BIbVPQcs8pkY"
      }
    },
    {
      "cell_type": "code",
      "source": [
        "# definition of the polynomial into consideration, it returns the value of the function and accepts the input of the value of the variables\n",
        "def poly(f):\n",
        "  return (f[0]**2)*(f[1]) + (f[1]**3)*jnp.sin(f[0])\n",
        "\n",
        "f_init_1 = jnp.array([jnp.pi, 6.0]) # Random initial values\n",
        "f_init_2 = jnp.array([jnp.pi*2, 7.0]) # Random initial values\n",
        "f_init_3 = jnp.array([jnp.pi*5, 2.0]) # Random initial values\n",
        "\n",
        "grad_x = jax.grad(poly) # Calculates the gradient of the function with respect to x and y both together\n",
        "\n",
        "print(f\"Gradient with respect to x is: {grad_x(f_init_1)[0]} and with respect to y is: {grad_x(f_init_1)[1]} [Using Jax inbuilt function grad]\")\n",
        "print(f\"Gradient with respect to x is: {(2*(f_init_1[0])*(f_init_1[1])+(f_init_1[1]**3)*(jnp.cos(f_init_1[0])))} and with respect to y is: {(f_init_1[0]**2+(3*(f_init_1[1]**2))*(jnp.sin(f_init_1[0])))} [Manual calculation of gradient by putting initial values in the gradient]\")\n",
        "print(f\"Gradient with respect to x is: {grad_x(f_init_2)[0]} and with respect to y is: {grad_x(f_init_2)[1]} [Using Jax inbuilt function grad]\")\n",
        "print(f\"Gradient with respect to x is: {(2*(f_init_2[0])*(f_init_2[1])+(f_init_2[1]**3)*(jnp.cos(f_init_2[0])))} and with respect to y is: {(f_init_2[0]**2+(3*(f_init_2[1]**2))*(jnp.sin(f_init_2[0])))} [Manual calculation of gradient by putting initial values in the gradient]\")\n",
        "print(f\"Gradient with respect to x is: {grad_x(f_init_3)[0]} and with respect to y is: {grad_x(f_init_3)[1]} [Using Jax inbuilt function grad]\")\n",
        "print(f\"Gradient with respect to x is: {(2*(f_init_3[0])*(f_init_3[1])+(f_init_3[1]**3)*(jnp.cos(f_init_3[0])))} and with respect to y is: {(f_init_3[0]**2+(3*(f_init_3[1]**2))*(jnp.sin(f_init_3[0])))} [Manual calculation of gradient by putting initial values in the gradient]\")\n",
        "print(\"Hence gradient evaluated by our method is equal to that of the analytical solution.\")"
      ],
      "metadata": {
        "colab": {
          "base_uri": "https://localhost:8080/"
        },
        "id": "AVWsALYJ9kt9",
        "outputId": "5f13fcd1-51fa-43d7-a556-e1dfa5c3609f"
      },
      "execution_count": 53,
      "outputs": [
        {
          "output_type": "stream",
          "name": "stdout",
          "text": [
            "Gradient with respect to x is: -178.30088806152344 and with respect to y is: 9.869595527648926 [Using Jax inbuilt function grad]\n",
            "Gradient with respect to x is: -178.30088806152344 and with respect to y is: 9.869595527648926 [Manual calculation of gradient by putting initial values in the gradient]\n",
            "Gradient with respect to x is: 430.964599609375 and with respect to y is: 39.47844696044922 [Using Jax inbuilt function grad]\n",
            "Gradient with respect to x is: 430.964599609375 and with respect to y is: 39.47844696044922 [Manual calculation of gradient by putting initial values in the gradient]\n",
            "Gradient with respect to x is: 54.831851959228516 and with respect to y is: 246.74009704589844 [Using Jax inbuilt function grad]\n",
            "Gradient with respect to x is: 54.831851959228516 and with respect to y is: 246.74009704589844 [Manual calculation of gradient by putting initial values in the gradient]\n",
            "Hence gradient evaluated by our method is equal to that of the analytical solution.\n"
          ]
        }
      ]
    },
    {
      "cell_type": "markdown",
      "source": [
        "---"
      ],
      "metadata": {
        "id": "hLB9eNvlMHjL"
      }
    },
    {
      "cell_type": "markdown",
      "source": [
        "**Q6.** Use sympy to confirm that you obtain the same gradient analytically."
      ],
      "metadata": {
        "id": "O3d1bDUKEZ_c"
      }
    },
    {
      "cell_type": "code",
      "source": [
        "f = (x**2)*y + (y**3)*sin(x) # function definition"
      ],
      "metadata": {
        "id": "SGzDRzLkFZNm"
      },
      "execution_count": null,
      "outputs": []
    },
    {
      "cell_type": "code",
      "source": [
        "diff(f,x) #differentiate f with respect to x"
      ],
      "metadata": {
        "colab": {
          "base_uri": "https://localhost:8080/",
          "height": 39
        },
        "id": "Se9h0F1UGFtQ",
        "outputId": "89b085ef-e2a8-47c3-fe29-359e42e0cc05"
      },
      "execution_count": null,
      "outputs": [
        {
          "output_type": "execute_result",
          "data": {
            "text/plain": [
              "2*x*y + y**3*cos(x)"
            ],
            "text/latex": "$\\displaystyle 2 x y + y^{3} \\cos{\\left(x \\right)}$"
          },
          "metadata": {},
          "execution_count": 5
        }
      ]
    },
    {
      "cell_type": "code",
      "source": [
        "diff(f,y) #differentiate f with respect to y"
      ],
      "metadata": {
        "colab": {
          "base_uri": "https://localhost:8080/",
          "height": 39
        },
        "id": "q4Ux8YvcGRkZ",
        "outputId": "9cfcb3f4-d458-49b6-f3ae-170c48519901"
      },
      "execution_count": null,
      "outputs": [
        {
          "output_type": "execute_result",
          "data": {
            "text/plain": [
              "x**2 + 3*y**2*sin(x)"
            ],
            "text/latex": "$\\displaystyle x^{2} + 3 y^{2} \\sin{\\left(x \\right)}$"
          },
          "metadata": {},
          "execution_count": 6
        }
      ]
    },
    {
      "cell_type": "markdown",
      "source": [
        "The Gradient that we get using sympy library in the same as that analytically derived as given below: <br>\n",
        "The Gradient(Analytically) with respect to **x** is given by: $2xy + y^3cos(x) $\n",
        "\n",
        "The Gradient (Analytically) with respect to **y** is given by: $x^2 + 3y^2sin(x) $"
      ],
      "metadata": {
        "id": "SY4LDP_KCZpw"
      }
    },
    {
      "cell_type": "markdown",
      "source": [
        "---"
      ],
      "metadata": {
        "id": "sRP4VdlBCxOd"
      }
    },
    {
      "cell_type": "markdown",
      "source": [
        "**Q7.** Create a Python nested dictionary to represent hierarchical information. We want to store record of students and their marks."
      ],
      "metadata": {
        "id": "sYUvPb7LRiK5"
      }
    },
    {
      "cell_type": "code",
      "source": [
        "# Hierarchical information is stored in dictionary format here, the dictionary is displayed below in a easy to understand visual format.\n",
        "database = {\n",
        "    2022: #years\n",
        "    {\n",
        "        \"CSE\": #branches\n",
        "        {\n",
        "            1: {\n",
        "                \"Roll Number\" : 10, #Roll number\n",
        "                \"Name\": \"Haikoo\",   #Name\n",
        "                \"Marks\":            #Marks\n",
        "                  {\n",
        "                    \"Maths\": 100,\n",
        "                    \"English\": 90\n",
        "                  }\n",
        "               },\n",
        "            2: {\n",
        "                \"Roll Number\" : 24, #Roll number\n",
        "                \"Name\": \"Madhav\",   #Name\n",
        "                \"Marks\":            #Marks\n",
        "                  {\n",
        "                    \"Maths\": 90,\n",
        "                    \"English\": 100\n",
        "                  }\n",
        "               }\n",
        "        },\n",
        "        \"EE\": \n",
        "        {\n",
        "            1: {\n",
        "                \"Roll Number\" : 20, #Roll number\n",
        "                \"Name\": \"Jinay\",    #Name\n",
        "                \"Marks\":            #Marks\n",
        "                  {\n",
        "                    \"Maths\": 95,\n",
        "                    \"English\": 95\n",
        "                  }\n",
        "               }\n",
        "        }\n",
        "    },\n",
        "    2023: \n",
        "    {\n",
        "        \"CSE\": #branches\n",
        "        {\n",
        "            1: {\n",
        "                \"Roll Number\" : 27, #Roll number\n",
        "                \"Name\": \"Mihir\",    #Name\n",
        "                \"Marks\":            #Marks\n",
        "                  {\n",
        "                    \"Maths\": 100,\n",
        "                    \"English\": 80\n",
        "                  }\n",
        "               },\n",
        "            2: {\n",
        "                \"Roll Number\" : 38, #Roll number\n",
        "                \"Name\": \"Sahil\",    #Name\n",
        "                \"Marks\":            #Marks\n",
        "                  {\n",
        "                    \"Maths\": 80,\n",
        "                    \"English\": 100\n",
        "                  }\n",
        "               }\n",
        "        },\n",
        "        \"EE\": \n",
        "        {\n",
        "            1: {\n",
        "                \"Roll Number\" : 37, #Roll number\n",
        "                \"Name\": \"Sanskar\",  #Name\n",
        "                \"Marks\":            #Marks\n",
        "                  {\n",
        "                    \"Maths\": 92,\n",
        "                    \"English\": 96\n",
        "                  }\n",
        "               }\n",
        "        }\n",
        "    },\n",
        "    2024: \n",
        "    {\n",
        "        \"CSE\": #branches\n",
        "        {\n",
        "            1: {\n",
        "                \"Roll Number\" : 39, #Roll number\n",
        "                \"Name\": \"Saatvik\",  #Name\n",
        "                \"Marks\":            #Marks\n",
        "                  {\n",
        "                    \"Maths\": 93,\n",
        "                    \"English\": 97\n",
        "                  }\n",
        "               },\n",
        "            2: {\n",
        "                \"Roll Number\" : 7,  #Roll number\n",
        "                \"Name\": \"Dhyey\",    #Name\n",
        "                \"Marks\":            #Marks\n",
        "                  {\n",
        "                    \"Maths\": 88,\n",
        "                    \"English\": 91\n",
        "                  }\n",
        "               }\n",
        "        },\n",
        "        \"EE\": \n",
        "        {\n",
        "            1: {\n",
        "                \"Roll Number\" : 17, #Roll number\n",
        "                \"Name\": \"Ksheer\",   #Name\n",
        "                \"Marks\":            #Marks\n",
        "                  {\n",
        "                    \"Maths\": 92,\n",
        "                    \"English\": 93\n",
        "                  }\n",
        "               }\n",
        "        }\n",
        "    },\n",
        "    2025: \n",
        "    {\n",
        "        \"CSE\": #branches\n",
        "        {\n",
        "            1: {\n",
        "                \"Roll Number\" : 5, #Roll number\n",
        "                \"Name\": \"Dhruv\",   #Name\n",
        "                \"Marks\":           #Marks\n",
        "                  {\n",
        "                    \"Maths\": 90,\n",
        "                    \"English\": 90\n",
        "                  }\n",
        "               },\n",
        "            2: {\n",
        "                \"Roll Number\" : 35, #Roll number\n",
        "                \"Name\": \"Progyan\",  #Name\n",
        "                \"Marks\":            #Marks\n",
        "                  {\n",
        "                    \"Maths\": 92,\n",
        "                    \"English\": 87\n",
        "                  }\n",
        "               }\n",
        "        },\n",
        "        \"EE\": \n",
        "        {\n",
        "            1: {\n",
        "                \"Roll Number\" : 43, #Roll number\n",
        "                \"Name\": \"Vrajesh\",  #Name\n",
        "                \"Marks\":            #Marks\n",
        "                  {\n",
        "                    \"Maths\": 85,\n",
        "                    \"English\": 85\n",
        "                  }\n",
        "               }\n",
        "        }\n",
        "    }\n",
        "}"
      ],
      "metadata": {
        "id": "Vutesxo6Rw9O"
      },
      "execution_count": 17,
      "outputs": []
    },
    {
      "cell_type": "markdown",
      "source": [
        "---"
      ],
      "metadata": {
        "id": "fFsmg6uHUWGL"
      }
    },
    {
      "cell_type": "markdown",
      "source": [
        "**Q8.** Store the same information using Python classes. We have an overall database which is a list of year objects. Each year contains a list of branches. Each branch contains a list of students. Each student has some properties like name, roll number and has marks in some subjects."
      ],
      "metadata": {
        "id": "hTv4gNn4UXfk"
      }
    },
    {
      "cell_type": "code",
      "source": [
        "class Student: # inside student we have roll number, name and marks\n",
        "    def __init__(self, Roll_no, Name, Marks):\n",
        "        self.Roll_no = Roll_no\n",
        "        self.Name = Name\n",
        "        self.Marks = Marks\n",
        "\n",
        "class Branch: # inside branch we have name and students\n",
        "    def __init__(self, Name, Students):\n",
        "        self.Name = Name\n",
        "        self.Students = Students\n",
        "\n",
        "class Year: # inside year we have year and branches\n",
        "    def __init__(self, year, branches):\n",
        "        self.year = year\n",
        "        self.branches = branches"
      ],
      "metadata": {
        "id": "k_b7L7OZUXxD"
      },
      "execution_count": 18,
      "outputs": []
    },
    {
      "cell_type": "code",
      "source": [
        "database = [\n",
        "    Year(2022, \n",
        "    [\n",
        "        Branch('CSE', \n",
        "          [\n",
        "            Student(10, 'Haikoo', {'Maths': 100, 'English': 90}),\n",
        "            Student(24, 'Madhav', {'Maths': 90, 'Science': 100})\n",
        "          ]),\n",
        "        Branch('EE', \n",
        "          [\n",
        "            Student(20, 'Jinay', {'Maths': 95, 'English': 95})\n",
        "          ]),\n",
        "    ]),\n",
        "    Year(2023, \n",
        "    [\n",
        "        Branch('CSE', \n",
        "          [\n",
        "            Student(27, 'Mihir', {'Maths': 100, 'English': 80}),\n",
        "            Student(38, 'Sahil', {'Maths': 80, 'Science': 100})\n",
        "          ]),\n",
        "        Branch('EE', \n",
        "          [\n",
        "            Student(37, 'Sanskar', {'Maths': 92, 'English': 96})\n",
        "          ]),\n",
        "    ]),\n",
        "    Year(2024, \n",
        "    [\n",
        "        Branch('CSE', \n",
        "          [\n",
        "            Student(39, 'Saatvik', {'Maths': 93, 'English': 97}),\n",
        "            Student(7, 'Dhyey', {'Maths': 88, 'Science': 91})\n",
        "          ]),\n",
        "        Branch('EE', \n",
        "          [\n",
        "            Student(17, 'Ksheer', {'Maths': 92, 'English': 93})\n",
        "          ]),\n",
        "    ]),\n",
        "    Year(2025, \n",
        "    [\n",
        "        Branch('CSE', \n",
        "          [\n",
        "            Student(5, 'Dhruv', {'Maths': 90, 'English': 90}),\n",
        "            Student(35, 'Progyan', {'Maths': 92, 'Science': 87})\n",
        "          ]),\n",
        "        Branch('EE', \n",
        "          [\n",
        "            Student(43, 'Vrajesh', {'Maths': 85, 'English': 85})\n",
        "          ]),\n",
        "    ]),\n",
        "]\n",
        "# Sanity Check\n",
        "print(database[0].branches[0].Students[0].Roll_no)\n",
        "print(database[0].branches[0].Students[0].Marks)  \n",
        "print(database[0].branches[0].Students[0].Name)  "
      ],
      "metadata": {
        "colab": {
          "base_uri": "https://localhost:8080/"
        },
        "id": "m5Xs0hFbWWX_",
        "outputId": "8a337766-fe7d-486f-9c2f-27c34aed28d1"
      },
      "execution_count": 21,
      "outputs": [
        {
          "output_type": "stream",
          "name": "stdout",
          "text": [
            "10\n",
            "{'Maths': 100, 'English': 90}\n",
            "Haikoo\n"
          ]
        }
      ]
    },
    {
      "cell_type": "markdown",
      "source": [
        "---"
      ],
      "metadata": {
        "id": "A4b92ugQUik9"
      }
    },
    {
      "cell_type": "markdown",
      "source": [
        "Q9. Using matplotlib plot the following functions on the domain: x = 0.5 to 100.0 in steps of 0.5. <br>\n",
        "  1. $y = x$ <br>\n",
        "  2. $y = x^2$ <br>\n",
        "  3. $y = \\frac{x^3}{100}$ <br>\n",
        "  4. $y = sin(x)$ <br>\n",
        "  5. $y = \\frac{sin(x)}{x}$ <br>\n",
        "  6. $y = log(x)$ <br>\n",
        "  7. $y = \\mathrm{e}^{x}$ <br>\n",
        "  "
      ],
      "metadata": {
        "id": "oXCaI-kF8hJm"
      }
    },
    {
      "cell_type": "code",
      "source": [
        "x = np.linspace(0.5,100,200) # divides the x axis in linspace i.e. line space of length 0.5 each from 0.5 to 100 total comprising of 200 intervals\n",
        "y_1 = x\n",
        "y_2 = x**2\n",
        "y_3 = (x**3)/(100)\n",
        "y_4 = np.sin(x)\n",
        "y_5 = np.sin(x)/(x)\n",
        "y_6 = np.log(x)\n",
        "y_7 = np.exp(x)"
      ],
      "metadata": {
        "id": "yE_dJAbk8fz5"
      },
      "execution_count": null,
      "outputs": []
    },
    {
      "cell_type": "code",
      "source": [
        "n_rows = 4 #rows\n",
        "n_cols = 2 #cols\n",
        "fig = plt.figure(figsize=(15,15)) #figure size\n",
        "labels = [\"y=x\",\"y=x^2\",\"y=(x^3)/100\",\"y=sin(x)\",\"y=sin(x)/x\",\"y=log(x)\",\"y=e^x\"] # labels\n",
        "colours = [\"r\",\"g\",\"b\",\"c\",\"m\",\"y\",\"k\"] # colours\n",
        "y_s = [y_1, y_2, y_3, y_4, y_5, y_6, y_7] # functions\n",
        "for i in range(1,8):\n",
        "  ax = fig.add_subplot(n_rows, n_cols, i)\n",
        "  ax.plot(x, y_s[i-1],color=colours[i-1],label=labels[i-1])\n",
        "  ax.legend(loc=\"upper right\")\n",
        "\n",
        "plt.show()"
      ],
      "metadata": {
        "colab": {
          "base_uri": "https://localhost:8080/",
          "height": 863
        },
        "id": "ho2qfik_Byo5",
        "outputId": "47ca7bbf-cc62-4f1f-b49e-5dfaac725e09"
      },
      "execution_count": null,
      "outputs": [
        {
          "output_type": "display_data",
          "data": {
            "text/plain": [
              "<Figure size 1080x1080 with 7 Axes>"
            ],
            "image/png": "[encoded data removed]"
          },
          "metadata": {
            "needs_background": "light"
          }
        }
      ]
    },
    {
      "cell_type": "markdown",
      "source": [
        "---"
      ],
      "metadata": {
        "id": "-YdapZwAKGNA"
      }
    },
    {
      "cell_type": "markdown",
      "source": [
        "**Q10.** Using numpy generate a matrix of size 20X5 containing random numbers drawn uniformly from the range of 1 to 2. Using Pandas create a dataframe out of this matrix. Name the columns of the dataframe as “a”, “b”, “c”, “d”, “e”. Find the column with the highest standard deviation. Find the row with the lowest mean."
      ],
      "metadata": {
        "id": "hAasHck_E2On"
      }
    },
    {
      "cell_type": "code",
      "source": [
        "matrix = np.random.rand(20,5) # random.rand generates the matrix with specified size and with values ranging between 0 and 1 uniformly\n",
        "matrix = matrix + 1 # adding one shifts the values to range between 1 and 2, in a sense the mean of the normal shifts to the right by 1\n",
        "matrix"
      ],
      "metadata": {
        "id": "l2RLmaJRB05i",
        "colab": {
          "base_uri": "https://localhost:8080/"
        },
        "outputId": "fe1cff0f-5cde-4d59-a3ad-becaf7a0edf7"
      },
      "execution_count": null,
      "outputs": [
        {
          "output_type": "execute_result",
          "data": {
            "text/plain": [
              "array([[1.65989241, 1.91613642, 1.84591264, 1.0444234 , 1.35192695],\n",
              "       [1.43653756, 1.92157459, 1.35038543, 1.52314724, 1.47533867],\n",
              "       [1.23651099, 1.27905396, 1.51430363, 1.65511116, 1.52989035],\n",
              "       [1.52796807, 1.84179502, 1.94617662, 1.12876459, 1.90802618],\n",
              "       [1.80107625, 1.54582153, 1.71988637, 1.93299545, 1.90198081],\n",
              "       [1.89749984, 1.05846845, 1.67687079, 1.49186583, 1.3984107 ],\n",
              "       [1.75417357, 1.40430308, 1.453799  , 1.44441146, 1.57148172],\n",
              "       [1.16208164, 1.73198677, 1.65265912, 1.70321519, 1.38762836],\n",
              "       [1.36973822, 1.31536225, 1.81576464, 1.10944487, 1.80767071],\n",
              "       [1.79354174, 1.56314152, 1.70220185, 1.48245482, 1.07485604],\n",
              "       [1.75956648, 1.38386635, 1.81069268, 1.65930474, 1.80709796],\n",
              "       [1.23906591, 1.94041737, 1.70034002, 1.31132553, 1.73963787],\n",
              "       [1.32218861, 1.01610193, 1.05124622, 1.54537603, 1.96716357],\n",
              "       [1.66532124, 1.60677284, 1.22184024, 1.68390827, 1.50605849],\n",
              "       [1.06368313, 1.93302858, 1.30736978, 1.66591627, 1.91691998],\n",
              "       [1.15019701, 1.64964758, 1.86917296, 1.12882538, 1.69264351],\n",
              "       [1.80670188, 1.83472955, 1.36634649, 1.99286201, 1.74943127],\n",
              "       [1.42417037, 1.87728584, 1.68626271, 1.4607662 , 1.70610187],\n",
              "       [1.30596042, 1.93238052, 1.25942389, 1.74041232, 1.25316113],\n",
              "       [1.21014353, 1.83929954, 1.28354451, 1.74012698, 1.73079811]])"
            ]
          },
          "metadata": {},
          "execution_count": 9
        }
      ]
    },
    {
      "cell_type": "code",
      "source": [
        "df = pd.DataFrame(matrix) # converting matrix to dataframe\n",
        "mapping = {0:\"a\",1:\"b\",2:\"c\",3:\"d\",4:\"e\"} \n",
        "df.rename(columns = mapping, inplace=True) # renaming the columns\n",
        "df"
      ],
      "metadata": {
        "colab": {
          "base_uri": "https://localhost:8080/",
          "height": 676
        },
        "id": "NyFcqHRyFK4G",
        "outputId": "cecbc4d0-8461-470e-b876-a12adf0add11"
      },
      "execution_count": null,
      "outputs": [
        {
          "output_type": "execute_result",
          "data": {
            "text/plain": [
              "           a         b         c         d         e\n",
              "0   1.659892  1.916136  1.845913  1.044423  1.351927\n",
              "1   1.436538  1.921575  1.350385  1.523147  1.475339\n",
              "2   1.236511  1.279054  1.514304  1.655111  1.529890\n",
              "3   1.527968  1.841795  1.946177  1.128765  1.908026\n",
              "4   1.801076  1.545822  1.719886  1.932995  1.901981\n",
              "5   1.897500  1.058468  1.676871  1.491866  1.398411\n",
              "6   1.754174  1.404303  1.453799  1.444411  1.571482\n",
              "7   1.162082  1.731987  1.652659  1.703215  1.387628\n",
              "8   1.369738  1.315362  1.815765  1.109445  1.807671\n",
              "9   1.793542  1.563142  1.702202  1.482455  1.074856\n",
              "10  1.759566  1.383866  1.810693  1.659305  1.807098\n",
              "11  1.239066  1.940417  1.700340  1.311326  1.739638\n",
              "12  1.322189  1.016102  1.051246  1.545376  1.967164\n",
              "13  1.665321  1.606773  1.221840  1.683908  1.506058\n",
              "14  1.063683  1.933029  1.307370  1.665916  1.916920\n",
              "15  1.150197  1.649648  1.869173  1.128825  1.692644\n",
              "16  1.806702  1.834730  1.366346  1.992862  1.749431\n",
              "17  1.424170  1.877286  1.686263  1.460766  1.706102\n",
              "18  1.305960  1.932381  1.259424  1.740412  1.253161\n",
              "19  1.210144  1.839300  1.283545  1.740127  1.730798"
            ],
            "text/html": [
              "\n",
              "  <div id=\"df-3f728d87-1d5b-41dc-80c0-84037e9aa232\">\n",
              "    <div class=\"colab-df-container\">\n",
              "      <div>\n",
              "<style scoped>\n",
              "    .dataframe tbody tr th:only-of-type {\n",
              "        vertical-align: middle;\n",
              "    }\n",
              "\n",
              "    .dataframe tbody tr th {\n",
              "        vertical-align: top;\n",
              "    }\n",
              "\n",
              "    .dataframe thead th {\n",
              "        text-align: right;\n",
              "    }\n",
              "</style>\n",
              "<table border=\"1\" class=\"dataframe\">\n",
              "  <thead>\n",
              "    <tr style=\"text-align: right;\">\n",
              "      <th></th>\n",
              "      <th>a</th>\n",
              "      <th>b</th>\n",
              "      <th>c</th>\n",
              "      <th>d</th>\n",
              "      <th>e</th>\n",
              "    </tr>\n",
              "  </thead>\n",
              "  <tbody>\n",
              "    <tr>\n",
              "      <th>0</th>\n",
              "      <td>1.659892</td>\n",
              "      <td>1.916136</td>\n",
              "      <td>1.845913</td>\n",
              "      <td>1.044423</td>\n",
              "      <td>1.351927</td>\n",
              "    </tr>\n",
              "    <tr>\n",
              "      <th>1</th>\n",
              "      <td>1.436538</td>\n",
              "      <td>1.921575</td>\n",
              "      <td>1.350385</td>\n",
              "      <td>1.523147</td>\n",
              "      <td>1.475339</td>\n",
              "    </tr>\n",
              "    <tr>\n",
              "      <th>2</th>\n",
              "      <td>1.236511</td>\n",
              "      <td>1.279054</td>\n",
              "      <td>1.514304</td>\n",
              "      <td>1.655111</td>\n",
              "      <td>1.529890</td>\n",
              "    </tr>\n",
              "    <tr>\n",
              "      <th>3</th>\n",
              "      <td>1.527968</td>\n",
              "      <td>1.841795</td>\n",
              "      <td>1.946177</td>\n",
              "      <td>1.128765</td>\n",
              "      <td>1.908026</td>\n",
              "    </tr>\n",
              "    <tr>\n",
              "      <th>4</th>\n",
              "      <td>1.801076</td>\n",
              "      <td>1.545822</td>\n",
              "      <td>1.719886</td>\n",
              "      <td>1.932995</td>\n",
              "      <td>1.901981</td>\n",
              "    </tr>\n",
              "    <tr>\n",
              "      <th>5</th>\n",
              "      <td>1.897500</td>\n",
              "      <td>1.058468</td>\n",
              "      <td>1.676871</td>\n",
              "      <td>1.491866</td>\n",
              "      <td>1.398411</td>\n",
              "    </tr>\n",
              "    <tr>\n",
              "      <th>6</th>\n",
              "      <td>1.754174</td>\n",
              "      <td>1.404303</td>\n",
              "      <td>1.453799</td>\n",
              "      <td>1.444411</td>\n",
              "      <td>1.571482</td>\n",
              "    </tr>\n",
              "    <tr>\n",
              "      <th>7</th>\n",
              "      <td>1.162082</td>\n",
              "      <td>1.731987</td>\n",
              "      <td>1.652659</td>\n",
              "      <td>1.703215</td>\n",
              "      <td>1.387628</td>\n",
              "    </tr>\n",
              "    <tr>\n",
              "      <th>8</th>\n",
              "      <td>1.369738</td>\n",
              "      <td>1.315362</td>\n",
              "      <td>1.815765</td>\n",
              "      <td>1.109445</td>\n",
              "      <td>1.807671</td>\n",
              "    </tr>\n",
              "    <tr>\n",
              "      <th>9</th>\n",
              "      <td>1.793542</td>\n",
              "      <td>1.563142</td>\n",
              "      <td>1.702202</td>\n",
              "      <td>1.482455</td>\n",
              "      <td>1.074856</td>\n",
              "    </tr>\n",
              "    <tr>\n",
              "      <th>10</th>\n",
              "      <td>1.759566</td>\n",
              "      <td>1.383866</td>\n",
              "      <td>1.810693</td>\n",
              "      <td>1.659305</td>\n",
              "      <td>1.807098</td>\n",
              "    </tr>\n",
              "    <tr>\n",
              "      <th>11</th>\n",
              "      <td>1.239066</td>\n",
              "      <td>1.940417</td>\n",
              "      <td>1.700340</td>\n",
              "      <td>1.311326</td>\n",
              "      <td>1.739638</td>\n",
              "    </tr>\n",
              "    <tr>\n",
              "      <th>12</th>\n",
              "      <td>1.322189</td>\n",
              "      <td>1.016102</td>\n",
              "      <td>1.051246</td>\n",
              "      <td>1.545376</td>\n",
              "      <td>1.967164</td>\n",
              "    </tr>\n",
              "    <tr>\n",
              "      <th>13</th>\n",
              "      <td>1.665321</td>\n",
              "      <td>1.606773</td>\n",
              "      <td>1.221840</td>\n",
              "      <td>1.683908</td>\n",
              "      <td>1.506058</td>\n",
              "    </tr>\n",
              "    <tr>\n",
              "      <th>14</th>\n",
              "      <td>1.063683</td>\n",
              "      <td>1.933029</td>\n",
              "      <td>1.307370</td>\n",
              "      <td>1.665916</td>\n",
              "      <td>1.916920</td>\n",
              "    </tr>\n",
              "    <tr>\n",
              "      <th>15</th>\n",
              "      <td>1.150197</td>\n",
              "      <td>1.649648</td>\n",
              "      <td>1.869173</td>\n",
              "      <td>1.128825</td>\n",
              "      <td>1.692644</td>\n",
              "    </tr>\n",
              "    <tr>\n",
              "      <th>16</th>\n",
              "      <td>1.806702</td>\n",
              "      <td>1.834730</td>\n",
              "      <td>1.366346</td>\n",
              "      <td>1.992862</td>\n",
              "      <td>1.749431</td>\n",
              "    </tr>\n",
              "    <tr>\n",
              "      <th>17</th>\n",
              "      <td>1.424170</td>\n",
              "      <td>1.877286</td>\n",
              "      <td>1.686263</td>\n",
              "      <td>1.460766</td>\n",
              "      <td>1.706102</td>\n",
              "    </tr>\n",
              "    <tr>\n",
              "      <th>18</th>\n",
              "      <td>1.305960</td>\n",
              "      <td>1.932381</td>\n",
              "      <td>1.259424</td>\n",
              "      <td>1.740412</td>\n",
              "      <td>1.253161</td>\n",
              "    </tr>\n",
              "    <tr>\n",
              "      <th>19</th>\n",
              "      <td>1.210144</td>\n",
              "      <td>1.839300</td>\n",
              "      <td>1.283545</td>\n",
              "      <td>1.740127</td>\n",
              "      <td>1.730798</td>\n",
              "    </tr>\n",
              "  </tbody>\n",
              "</table>\n",
              "</div>\n",
              "      <button class=\"colab-df-convert\" onclick=\"convertToInteractive('df-3f728d87-1d5b-41dc-80c0-84037e9aa232')\"\n",
              "              title=\"Convert this dataframe to an interactive table.\"\n",
              "              style=\"display:none;\">\n",
              "        \n",
              "  <svg xmlns=\"http://www.w3.org/2000/svg\" height=\"24px\"viewBox=\"0 0 24 24\"\n",
              "       width=\"24px\">\n",
              "    <path d=\"M0 0h24v24H0V0z\" fill=\"none\"/>\n",
              "    <path d=\"M18.56 5.44l.94 2.06.94-2.06 2.06-.94-2.06-.94-.94-2.06-.94 2.06-2.06.94zm-11 1L8.5 8.5l.94-2.06 2.06-.94-2.06-.94L8.5 2.5l-.94 2.06-2.06.94zm10 10l.94 2.06.94-2.06 2.06-.94-2.06-.94-.94-2.06-.94 2.06-2.06.94z\"/><path d=\"M17.41 7.96l-1.37-1.37c-.4-.4-.92-.59-1.43-.59-.52 0-1.04.2-1.43.59L10.3 9.45l-7.72 7.72c-.78.78-.78 2.05 0 2.83L4 21.41c.39.39.9.59 1.41.59.51 0 1.02-.2 1.41-.59l7.78-7.78 2.81-2.81c.8-.78.8-2.07 0-2.86zM5.41 20L4 18.59l7.72-7.72 1.47 1.35L5.41 20z\"/>\n",
              "  </svg>\n",
              "      </button>\n",
              "      \n",
              "  <style>\n",
              "    .colab-df-container {\n",
              "      display:flex;\n",
              "      flex-wrap:wrap;\n",
              "      gap: 12px;\n",
              "    }\n",
              "\n",
              "    .colab-df-convert {\n",
              "      background-color: #E8F0FE;\n",
              "      border: none;\n",
              "      border-radius: 50%;\n",
              "      cursor: pointer;\n",
              "      display: none;\n",
              "      fill: #1967D2;\n",
              "      height: 32px;\n",
              "      padding: 0 0 0 0;\n",
              "      width: 32px;\n",
              "    }\n",
              "\n",
              "    .colab-df-convert:hover {\n",
              "      background-color: #E2EBFA;\n",
              "      box-shadow: 0px 1px 2px rgba(60, 64, 67, 0.3), 0px 1px 3px 1px rgba(60, 64, 67, 0.15);\n",
              "      fill: #174EA6;\n",
              "    }\n",
              "\n",
              "    [theme=dark] .colab-df-convert {\n",
              "      background-color: #3B4455;\n",
              "      fill: #D2E3FC;\n",
              "    }\n",
              "\n",
              "    [theme=dark] .colab-df-convert:hover {\n",
              "      background-color: #434B5C;\n",
              "      box-shadow: 0px 1px 3px 1px rgba(0, 0, 0, 0.15);\n",
              "      filter: drop-shadow(0px 1px 2px rgba(0, 0, 0, 0.3));\n",
              "      fill: #FFFFFF;\n",
              "    }\n",
              "  </style>\n",
              "\n",
              "      <script>\n",
              "        const buttonEl =\n",
              "          document.querySelector('#df-3f728d87-1d5b-41dc-80c0-84037e9aa232 button.colab-df-convert');\n",
              "        buttonEl.style.display =\n",
              "          google.colab.kernel.accessAllowed ? 'block' : 'none';\n",
              "\n",
              "        async function convertToInteractive(key) {\n",
              "          const element = document.querySelector('#df-3f728d87-1d5b-41dc-80c0-84037e9aa232');\n",
              "          const dataTable =\n",
              "            await google.colab.kernel.invokeFunction('convertToInteractive',\n",
              "                                                     [key], {});\n",
              "          if (!dataTable) return;\n",
              "\n",
              "          const docLinkHtml = 'Like what you see? Visit the ' +\n",
              "            '<a target=\"_blank\" href=https://colab.research.google.com/notebooks/data_table.ipynb>data table notebook</a>'\n",
              "            + ' to learn more about interactive tables.';\n",
              "          element.innerHTML = '';\n",
              "          dataTable['output_type'] = 'display_data';\n",
              "          await google.colab.output.renderOutput(dataTable, element);\n",
              "          const docLink = document.createElement('div');\n",
              "          docLink.innerHTML = docLinkHtml;\n",
              "          element.appendChild(docLink);\n",
              "        }\n",
              "      </script>\n",
              "    </div>\n",
              "  </div>\n",
              "  "
            ]
          },
          "metadata": {},
          "execution_count": 10
        }
      ]
    },
    {
      "cell_type": "code",
      "source": [
        "print(f\"Highest standard-deviation across columns is {df.std(axis=0).max()} and the corresponding column is {chr(97+df.std(axis=0).argmax())}.\")\n",
        "# std returns the standard deviation across the axis specified, in our case along axis 0 corresponds to columns\n",
        "# chr returns the char of the ASCII value inside, argmax returns the index of the column with highest standard deviation"
      ],
      "metadata": {
        "colab": {
          "base_uri": "https://localhost:8080/"
        },
        "id": "mP_Z87q__WLJ",
        "outputId": "33ace9d9-f27a-4517-aefa-e2b52f5cd0b2"
      },
      "execution_count": null,
      "outputs": [
        {
          "output_type": "stream",
          "name": "stdout",
          "text": [
            "Highest standard-deviation across columns is 0.2989733312572613 and the corresponding column is b.\n"
          ]
        }
      ]
    },
    {
      "cell_type": "code",
      "source": [
        "print(f\"Lowest mean across row is {df.mean(axis=1).min()} and the corresponding row is {df.mean(axis=1).argmin()}.\")\n",
        "# mean returns the mean across the axis specified, in our case along axis 1 corresponds to rows\n",
        "# argmin returns the index of the row with lowest mean"
      ],
      "metadata": {
        "colab": {
          "base_uri": "https://localhost:8080/"
        },
        "id": "U0VzUPpDoprE",
        "outputId": "acc99cf0-4959-4181-bc41-f04e1555f652"
      },
      "execution_count": null,
      "outputs": [
        {
          "output_type": "stream",
          "name": "stdout",
          "text": [
            "Lowest mean across row is 1.3804152701044086 and the corresponding row is 12.\n"
          ]
        }
      ]
    },
    {
      "cell_type": "markdown",
      "source": [
        "---"
      ],
      "metadata": {
        "id": "NPpyVEPkDExB"
      }
    },
    {
      "cell_type": "markdown",
      "source": [
        "**Q11.** Add a new column to the dataframe called “f” which is the sum of the columns “a”, “b”, “c”, “d”, “e”. Create another column called “g”. The value in the column “g” should be “LT8” if the value in the column “f” is less than 8 and “GT8” otherwise. Find the number of rows in the dataframe where the value in the column “g” is “LT8”. Find the standard deviation of the column “f” for the rows where the value in the column “g” is “LT8” and “GT8” respectively.\n",
        "\n"
      ],
      "metadata": {
        "id": "K0N4LPtvIOQ_"
      }
    },
    {
      "cell_type": "code",
      "source": [
        "df['f'] = df['a'] + df['b'] + df['c'] + df['d'] + df['e'] # creating the new column f\n",
        "df"
      ],
      "metadata": {
        "colab": {
          "base_uri": "https://localhost:8080/",
          "height": 676
        },
        "id": "FFd8dyD_1GYC",
        "outputId": "06c076f1-ddde-4374-af3e-5dfea9024928"
      },
      "execution_count": null,
      "outputs": [
        {
          "output_type": "execute_result",
          "data": {
            "text/plain": [
              "           a         b         c         d         e         f\n",
              "0   1.659892  1.916136  1.845913  1.044423  1.351927  7.818292\n",
              "1   1.436538  1.921575  1.350385  1.523147  1.475339  7.706983\n",
              "2   1.236511  1.279054  1.514304  1.655111  1.529890  7.214870\n",
              "3   1.527968  1.841795  1.946177  1.128765  1.908026  8.352730\n",
              "4   1.801076  1.545822  1.719886  1.932995  1.901981  8.901760\n",
              "5   1.897500  1.058468  1.676871  1.491866  1.398411  7.523116\n",
              "6   1.754174  1.404303  1.453799  1.444411  1.571482  7.628169\n",
              "7   1.162082  1.731987  1.652659  1.703215  1.387628  7.637571\n",
              "8   1.369738  1.315362  1.815765  1.109445  1.807671  7.417981\n",
              "9   1.793542  1.563142  1.702202  1.482455  1.074856  7.616196\n",
              "10  1.759566  1.383866  1.810693  1.659305  1.807098  8.420528\n",
              "11  1.239066  1.940417  1.700340  1.311326  1.739638  7.930787\n",
              "12  1.322189  1.016102  1.051246  1.545376  1.967164  6.902076\n",
              "13  1.665321  1.606773  1.221840  1.683908  1.506058  7.683901\n",
              "14  1.063683  1.933029  1.307370  1.665916  1.916920  7.886918\n",
              "15  1.150197  1.649648  1.869173  1.128825  1.692644  7.490486\n",
              "16  1.806702  1.834730  1.366346  1.992862  1.749431  8.750071\n",
              "17  1.424170  1.877286  1.686263  1.460766  1.706102  8.154587\n",
              "18  1.305960  1.932381  1.259424  1.740412  1.253161  7.491338\n",
              "19  1.210144  1.839300  1.283545  1.740127  1.730798  7.803913"
            ],
            "text/html": [
              "\n",
              "  <div id=\"df-bf1cd336-0405-4704-a57f-c7cdfe72b68b\">\n",
              "    <div class=\"colab-df-container\">\n",
              "      <div>\n",
              "<style scoped>\n",
              "    .dataframe tbody tr th:only-of-type {\n",
              "        vertical-align: middle;\n",
              "    }\n",
              "\n",
              "    .dataframe tbody tr th {\n",
              "        vertical-align: top;\n",
              "    }\n",
              "\n",
              "    .dataframe thead th {\n",
              "        text-align: right;\n",
              "    }\n",
              "</style>\n",
              "<table border=\"1\" class=\"dataframe\">\n",
              "  <thead>\n",
              "    <tr style=\"text-align: right;\">\n",
              "      <th></th>\n",
              "      <th>a</th>\n",
              "      <th>b</th>\n",
              "      <th>c</th>\n",
              "      <th>d</th>\n",
              "      <th>e</th>\n",
              "      <th>f</th>\n",
              "    </tr>\n",
              "  </thead>\n",
              "  <tbody>\n",
              "    <tr>\n",
              "      <th>0</th>\n",
              "      <td>1.659892</td>\n",
              "      <td>1.916136</td>\n",
              "      <td>1.845913</td>\n",
              "      <td>1.044423</td>\n",
              "      <td>1.351927</td>\n",
              "      <td>7.818292</td>\n",
              "    </tr>\n",
              "    <tr>\n",
              "      <th>1</th>\n",
              "      <td>1.436538</td>\n",
              "      <td>1.921575</td>\n",
              "      <td>1.350385</td>\n",
              "      <td>1.523147</td>\n",
              "      <td>1.475339</td>\n",
              "      <td>7.706983</td>\n",
              "    </tr>\n",
              "    <tr>\n",
              "      <th>2</th>\n",
              "      <td>1.236511</td>\n",
              "      <td>1.279054</td>\n",
              "      <td>1.514304</td>\n",
              "      <td>1.655111</td>\n",
              "      <td>1.529890</td>\n",
              "      <td>7.214870</td>\n",
              "    </tr>\n",
              "    <tr>\n",
              "      <th>3</th>\n",
              "      <td>1.527968</td>\n",
              "      <td>1.841795</td>\n",
              "      <td>1.946177</td>\n",
              "      <td>1.128765</td>\n",
              "      <td>1.908026</td>\n",
              "      <td>8.352730</td>\n",
              "    </tr>\n",
              "    <tr>\n",
              "      <th>4</th>\n",
              "      <td>1.801076</td>\n",
              "      <td>1.545822</td>\n",
              "      <td>1.719886</td>\n",
              "      <td>1.932995</td>\n",
              "      <td>1.901981</td>\n",
              "      <td>8.901760</td>\n",
              "    </tr>\n",
              "    <tr>\n",
              "      <th>5</th>\n",
              "      <td>1.897500</td>\n",
              "      <td>1.058468</td>\n",
              "      <td>1.676871</td>\n",
              "      <td>1.491866</td>\n",
              "      <td>1.398411</td>\n",
              "      <td>7.523116</td>\n",
              "    </tr>\n",
              "    <tr>\n",
              "      <th>6</th>\n",
              "      <td>1.754174</td>\n",
              "      <td>1.404303</td>\n",
              "      <td>1.453799</td>\n",
              "      <td>1.444411</td>\n",
              "      <td>1.571482</td>\n",
              "      <td>7.628169</td>\n",
              "    </tr>\n",
              "    <tr>\n",
              "      <th>7</th>\n",
              "      <td>1.162082</td>\n",
              "      <td>1.731987</td>\n",
              "      <td>1.652659</td>\n",
              "      <td>1.703215</td>\n",
              "      <td>1.387628</td>\n",
              "      <td>7.637571</td>\n",
              "    </tr>\n",
              "    <tr>\n",
              "      <th>8</th>\n",
              "      <td>1.369738</td>\n",
              "      <td>1.315362</td>\n",
              "      <td>1.815765</td>\n",
              "      <td>1.109445</td>\n",
              "      <td>1.807671</td>\n",
              "      <td>7.417981</td>\n",
              "    </tr>\n",
              "    <tr>\n",
              "      <th>9</th>\n",
              "      <td>1.793542</td>\n",
              "      <td>1.563142</td>\n",
              "      <td>1.702202</td>\n",
              "      <td>1.482455</td>\n",
              "      <td>1.074856</td>\n",
              "      <td>7.616196</td>\n",
              "    </tr>\n",
              "    <tr>\n",
              "      <th>10</th>\n",
              "      <td>1.759566</td>\n",
              "      <td>1.383866</td>\n",
              "      <td>1.810693</td>\n",
              "      <td>1.659305</td>\n",
              "      <td>1.807098</td>\n",
              "      <td>8.420528</td>\n",
              "    </tr>\n",
              "    <tr>\n",
              "      <th>11</th>\n",
              "      <td>1.239066</td>\n",
              "      <td>1.940417</td>\n",
              "      <td>1.700340</td>\n",
              "      <td>1.311326</td>\n",
              "      <td>1.739638</td>\n",
              "      <td>7.930787</td>\n",
              "    </tr>\n",
              "    <tr>\n",
              "      <th>12</th>\n",
              "      <td>1.322189</td>\n",
              "      <td>1.016102</td>\n",
              "      <td>1.051246</td>\n",
              "      <td>1.545376</td>\n",
              "      <td>1.967164</td>\n",
              "      <td>6.902076</td>\n",
              "    </tr>\n",
              "    <tr>\n",
              "      <th>13</th>\n",
              "      <td>1.665321</td>\n",
              "      <td>1.606773</td>\n",
              "      <td>1.221840</td>\n",
              "      <td>1.683908</td>\n",
              "      <td>1.506058</td>\n",
              "      <td>7.683901</td>\n",
              "    </tr>\n",
              "    <tr>\n",
              "      <th>14</th>\n",
              "      <td>1.063683</td>\n",
              "      <td>1.933029</td>\n",
              "      <td>1.307370</td>\n",
              "      <td>1.665916</td>\n",
              "      <td>1.916920</td>\n",
              "      <td>7.886918</td>\n",
              "    </tr>\n",
              "    <tr>\n",
              "      <th>15</th>\n",
              "      <td>1.150197</td>\n",
              "      <td>1.649648</td>\n",
              "      <td>1.869173</td>\n",
              "      <td>1.128825</td>\n",
              "      <td>1.692644</td>\n",
              "      <td>7.490486</td>\n",
              "    </tr>\n",
              "    <tr>\n",
              "      <th>16</th>\n",
              "      <td>1.806702</td>\n",
              "      <td>1.834730</td>\n",
              "      <td>1.366346</td>\n",
              "      <td>1.992862</td>\n",
              "      <td>1.749431</td>\n",
              "      <td>8.750071</td>\n",
              "    </tr>\n",
              "    <tr>\n",
              "      <th>17</th>\n",
              "      <td>1.424170</td>\n",
              "      <td>1.877286</td>\n",
              "      <td>1.686263</td>\n",
              "      <td>1.460766</td>\n",
              "      <td>1.706102</td>\n",
              "      <td>8.154587</td>\n",
              "    </tr>\n",
              "    <tr>\n",
              "      <th>18</th>\n",
              "      <td>1.305960</td>\n",
              "      <td>1.932381</td>\n",
              "      <td>1.259424</td>\n",
              "      <td>1.740412</td>\n",
              "      <td>1.253161</td>\n",
              "      <td>7.491338</td>\n",
              "    </tr>\n",
              "    <tr>\n",
              "      <th>19</th>\n",
              "      <td>1.210144</td>\n",
              "      <td>1.839300</td>\n",
              "      <td>1.283545</td>\n",
              "      <td>1.740127</td>\n",
              "      <td>1.730798</td>\n",
              "      <td>7.803913</td>\n",
              "    </tr>\n",
              "  </tbody>\n",
              "</table>\n",
              "</div>\n",
              "      <button class=\"colab-df-convert\" onclick=\"convertToInteractive('df-bf1cd336-0405-4704-a57f-c7cdfe72b68b')\"\n",
              "              title=\"Convert this dataframe to an interactive table.\"\n",
              "              style=\"display:none;\">\n",
              "        \n",
              "  <svg xmlns=\"http://www.w3.org/2000/svg\" height=\"24px\"viewBox=\"0 0 24 24\"\n",
              "       width=\"24px\">\n",
              "    <path d=\"M0 0h24v24H0V0z\" fill=\"none\"/>\n",
              "    <path d=\"M18.56 5.44l.94 2.06.94-2.06 2.06-.94-2.06-.94-.94-2.06-.94 2.06-2.06.94zm-11 1L8.5 8.5l.94-2.06 2.06-.94-2.06-.94L8.5 2.5l-.94 2.06-2.06.94zm10 10l.94 2.06.94-2.06 2.06-.94-2.06-.94-.94-2.06-.94 2.06-2.06.94z\"/><path d=\"M17.41 7.96l-1.37-1.37c-.4-.4-.92-.59-1.43-.59-.52 0-1.04.2-1.43.59L10.3 9.45l-7.72 7.72c-.78.78-.78 2.05 0 2.83L4 21.41c.39.39.9.59 1.41.59.51 0 1.02-.2 1.41-.59l7.78-7.78 2.81-2.81c.8-.78.8-2.07 0-2.86zM5.41 20L4 18.59l7.72-7.72 1.47 1.35L5.41 20z\"/>\n",
              "  </svg>\n",
              "      </button>\n",
              "      \n",
              "  <style>\n",
              "    .colab-df-container {\n",
              "      display:flex;\n",
              "      flex-wrap:wrap;\n",
              "      gap: 12px;\n",
              "    }\n",
              "\n",
              "    .colab-df-convert {\n",
              "      background-color: #E8F0FE;\n",
              "      border: none;\n",
              "      border-radius: 50%;\n",
              "      cursor: pointer;\n",
              "      display: none;\n",
              "      fill: #1967D2;\n",
              "      height: 32px;\n",
              "      padding: 0 0 0 0;\n",
              "      width: 32px;\n",
              "    }\n",
              "\n",
              "    .colab-df-convert:hover {\n",
              "      background-color: #E2EBFA;\n",
              "      box-shadow: 0px 1px 2px rgba(60, 64, 67, 0.3), 0px 1px 3px 1px rgba(60, 64, 67, 0.15);\n",
              "      fill: #174EA6;\n",
              "    }\n",
              "\n",
              "    [theme=dark] .colab-df-convert {\n",
              "      background-color: #3B4455;\n",
              "      fill: #D2E3FC;\n",
              "    }\n",
              "\n",
              "    [theme=dark] .colab-df-convert:hover {\n",
              "      background-color: #434B5C;\n",
              "      box-shadow: 0px 1px 3px 1px rgba(0, 0, 0, 0.15);\n",
              "      filter: drop-shadow(0px 1px 2px rgba(0, 0, 0, 0.3));\n",
              "      fill: #FFFFFF;\n",
              "    }\n",
              "  </style>\n",
              "\n",
              "      <script>\n",
              "        const buttonEl =\n",
              "          document.querySelector('#df-bf1cd336-0405-4704-a57f-c7cdfe72b68b button.colab-df-convert');\n",
              "        buttonEl.style.display =\n",
              "          google.colab.kernel.accessAllowed ? 'block' : 'none';\n",
              "\n",
              "        async function convertToInteractive(key) {\n",
              "          const element = document.querySelector('#df-bf1cd336-0405-4704-a57f-c7cdfe72b68b');\n",
              "          const dataTable =\n",
              "            await google.colab.kernel.invokeFunction('convertToInteractive',\n",
              "                                                     [key], {});\n",
              "          if (!dataTable) return;\n",
              "\n",
              "          const docLinkHtml = 'Like what you see? Visit the ' +\n",
              "            '<a target=\"_blank\" href=https://colab.research.google.com/notebooks/data_table.ipynb>data table notebook</a>'\n",
              "            + ' to learn more about interactive tables.';\n",
              "          element.innerHTML = '';\n",
              "          dataTable['output_type'] = 'display_data';\n",
              "          await google.colab.output.renderOutput(dataTable, element);\n",
              "          const docLink = document.createElement('div');\n",
              "          docLink.innerHTML = docLinkHtml;\n",
              "          element.appendChild(docLink);\n",
              "        }\n",
              "      </script>\n",
              "    </div>\n",
              "  </div>\n",
              "  "
            ]
          },
          "metadata": {},
          "execution_count": 13
        }
      ]
    },
    {
      "cell_type": "code",
      "source": [
        "df['g'] = np.where(df['f']<8,\"LT8\",\"GT8\") # column g\n",
        "df"
      ],
      "metadata": {
        "colab": {
          "base_uri": "https://localhost:8080/",
          "height": 676
        },
        "id": "Ojfazlq-LFB9",
        "outputId": "f60e01c7-a4f9-4ad2-c694-8a1df08a761e"
      },
      "execution_count": null,
      "outputs": [
        {
          "output_type": "execute_result",
          "data": {
            "text/plain": [
              "           a         b         c         d         e         f    g\n",
              "0   1.659892  1.916136  1.845913  1.044423  1.351927  7.818292  LT8\n",
              "1   1.436538  1.921575  1.350385  1.523147  1.475339  7.706983  LT8\n",
              "2   1.236511  1.279054  1.514304  1.655111  1.529890  7.214870  LT8\n",
              "3   1.527968  1.841795  1.946177  1.128765  1.908026  8.352730  GT8\n",
              "4   1.801076  1.545822  1.719886  1.932995  1.901981  8.901760  GT8\n",
              "5   1.897500  1.058468  1.676871  1.491866  1.398411  7.523116  LT8\n",
              "6   1.754174  1.404303  1.453799  1.444411  1.571482  7.628169  LT8\n",
              "7   1.162082  1.731987  1.652659  1.703215  1.387628  7.637571  LT8\n",
              "8   1.369738  1.315362  1.815765  1.109445  1.807671  7.417981  LT8\n",
              "9   1.793542  1.563142  1.702202  1.482455  1.074856  7.616196  LT8\n",
              "10  1.759566  1.383866  1.810693  1.659305  1.807098  8.420528  GT8\n",
              "11  1.239066  1.940417  1.700340  1.311326  1.739638  7.930787  LT8\n",
              "12  1.322189  1.016102  1.051246  1.545376  1.967164  6.902076  LT8\n",
              "13  1.665321  1.606773  1.221840  1.683908  1.506058  7.683901  LT8\n",
              "14  1.063683  1.933029  1.307370  1.665916  1.916920  7.886918  LT8\n",
              "15  1.150197  1.649648  1.869173  1.128825  1.692644  7.490486  LT8\n",
              "16  1.806702  1.834730  1.366346  1.992862  1.749431  8.750071  GT8\n",
              "17  1.424170  1.877286  1.686263  1.460766  1.706102  8.154587  GT8\n",
              "18  1.305960  1.932381  1.259424  1.740412  1.253161  7.491338  LT8\n",
              "19  1.210144  1.839300  1.283545  1.740127  1.730798  7.803913  LT8"
            ],
            "text/html": [
              "\n",
              "  <div id=\"df-15e791db-f5aa-4f73-968b-5ade4eb53fd7\">\n",
              "    <div class=\"colab-df-container\">\n",
              "      <div>\n",
              "<style scoped>\n",
              "    .dataframe tbody tr th:only-of-type {\n",
              "        vertical-align: middle;\n",
              "    }\n",
              "\n",
              "    .dataframe tbody tr th {\n",
              "        vertical-align: top;\n",
              "    }\n",
              "\n",
              "    .dataframe thead th {\n",
              "        text-align: right;\n",
              "    }\n",
              "</style>\n",
              "<table border=\"1\" class=\"dataframe\">\n",
              "  <thead>\n",
              "    <tr style=\"text-align: right;\">\n",
              "      <th></th>\n",
              "      <th>a</th>\n",
              "      <th>b</th>\n",
              "      <th>c</th>\n",
              "      <th>d</th>\n",
              "      <th>e</th>\n",
              "      <th>f</th>\n",
              "      <th>g</th>\n",
              "    </tr>\n",
              "  </thead>\n",
              "  <tbody>\n",
              "    <tr>\n",
              "      <th>0</th>\n",
              "      <td>1.659892</td>\n",
              "      <td>1.916136</td>\n",
              "      <td>1.845913</td>\n",
              "      <td>1.044423</td>\n",
              "      <td>1.351927</td>\n",
              "      <td>7.818292</td>\n",
              "      <td>LT8</td>\n",
              "    </tr>\n",
              "    <tr>\n",
              "      <th>1</th>\n",
              "      <td>1.436538</td>\n",
              "      <td>1.921575</td>\n",
              "      <td>1.350385</td>\n",
              "      <td>1.523147</td>\n",
              "      <td>1.475339</td>\n",
              "      <td>7.706983</td>\n",
              "      <td>LT8</td>\n",
              "    </tr>\n",
              "    <tr>\n",
              "      <th>2</th>\n",
              "      <td>1.236511</td>\n",
              "      <td>1.279054</td>\n",
              "      <td>1.514304</td>\n",
              "      <td>1.655111</td>\n",
              "      <td>1.529890</td>\n",
              "      <td>7.214870</td>\n",
              "      <td>LT8</td>\n",
              "    </tr>\n",
              "    <tr>\n",
              "      <th>3</th>\n",
              "      <td>1.527968</td>\n",
              "      <td>1.841795</td>\n",
              "      <td>1.946177</td>\n",
              "      <td>1.128765</td>\n",
              "      <td>1.908026</td>\n",
              "      <td>8.352730</td>\n",
              "      <td>GT8</td>\n",
              "    </tr>\n",
              "    <tr>\n",
              "      <th>4</th>\n",
              "      <td>1.801076</td>\n",
              "      <td>1.545822</td>\n",
              "      <td>1.719886</td>\n",
              "      <td>1.932995</td>\n",
              "      <td>1.901981</td>\n",
              "      <td>8.901760</td>\n",
              "      <td>GT8</td>\n",
              "    </tr>\n",
              "    <tr>\n",
              "      <th>5</th>\n",
              "      <td>1.897500</td>\n",
              "      <td>1.058468</td>\n",
              "      <td>1.676871</td>\n",
              "      <td>1.491866</td>\n",
              "      <td>1.398411</td>\n",
              "      <td>7.523116</td>\n",
              "      <td>LT8</td>\n",
              "    </tr>\n",
              "    <tr>\n",
              "      <th>6</th>\n",
              "      <td>1.754174</td>\n",
              "      <td>1.404303</td>\n",
              "      <td>1.453799</td>\n",
              "      <td>1.444411</td>\n",
              "      <td>1.571482</td>\n",
              "      <td>7.628169</td>\n",
              "      <td>LT8</td>\n",
              "    </tr>\n",
              "    <tr>\n",
              "      <th>7</th>\n",
              "      <td>1.162082</td>\n",
              "      <td>1.731987</td>\n",
              "      <td>1.652659</td>\n",
              "      <td>1.703215</td>\n",
              "      <td>1.387628</td>\n",
              "      <td>7.637571</td>\n",
              "      <td>LT8</td>\n",
              "    </tr>\n",
              "    <tr>\n",
              "      <th>8</th>\n",
              "      <td>1.369738</td>\n",
              "      <td>1.315362</td>\n",
              "      <td>1.815765</td>\n",
              "      <td>1.109445</td>\n",
              "      <td>1.807671</td>\n",
              "      <td>7.417981</td>\n",
              "      <td>LT8</td>\n",
              "    </tr>\n",
              "    <tr>\n",
              "      <th>9</th>\n",
              "      <td>1.793542</td>\n",
              "      <td>1.563142</td>\n",
              "      <td>1.702202</td>\n",
              "      <td>1.482455</td>\n",
              "      <td>1.074856</td>\n",
              "      <td>7.616196</td>\n",
              "      <td>LT8</td>\n",
              "    </tr>\n",
              "    <tr>\n",
              "      <th>10</th>\n",
              "      <td>1.759566</td>\n",
              "      <td>1.383866</td>\n",
              "      <td>1.810693</td>\n",
              "      <td>1.659305</td>\n",
              "      <td>1.807098</td>\n",
              "      <td>8.420528</td>\n",
              "      <td>GT8</td>\n",
              "    </tr>\n",
              "    <tr>\n",
              "      <th>11</th>\n",
              "      <td>1.239066</td>\n",
              "      <td>1.940417</td>\n",
              "      <td>1.700340</td>\n",
              "      <td>1.311326</td>\n",
              "      <td>1.739638</td>\n",
              "      <td>7.930787</td>\n",
              "      <td>LT8</td>\n",
              "    </tr>\n",
              "    <tr>\n",
              "      <th>12</th>\n",
              "      <td>1.322189</td>\n",
              "      <td>1.016102</td>\n",
              "      <td>1.051246</td>\n",
              "      <td>1.545376</td>\n",
              "      <td>1.967164</td>\n",
              "      <td>6.902076</td>\n",
              "      <td>LT8</td>\n",
              "    </tr>\n",
              "    <tr>\n",
              "      <th>13</th>\n",
              "      <td>1.665321</td>\n",
              "      <td>1.606773</td>\n",
              "      <td>1.221840</td>\n",
              "      <td>1.683908</td>\n",
              "      <td>1.506058</td>\n",
              "      <td>7.683901</td>\n",
              "      <td>LT8</td>\n",
              "    </tr>\n",
              "    <tr>\n",
              "      <th>14</th>\n",
              "      <td>1.063683</td>\n",
              "      <td>1.933029</td>\n",
              "      <td>1.307370</td>\n",
              "      <td>1.665916</td>\n",
              "      <td>1.916920</td>\n",
              "      <td>7.886918</td>\n",
              "      <td>LT8</td>\n",
              "    </tr>\n",
              "    <tr>\n",
              "      <th>15</th>\n",
              "      <td>1.150197</td>\n",
              "      <td>1.649648</td>\n",
              "      <td>1.869173</td>\n",
              "      <td>1.128825</td>\n",
              "      <td>1.692644</td>\n",
              "      <td>7.490486</td>\n",
              "      <td>LT8</td>\n",
              "    </tr>\n",
              "    <tr>\n",
              "      <th>16</th>\n",
              "      <td>1.806702</td>\n",
              "      <td>1.834730</td>\n",
              "      <td>1.366346</td>\n",
              "      <td>1.992862</td>\n",
              "      <td>1.749431</td>\n",
              "      <td>8.750071</td>\n",
              "      <td>GT8</td>\n",
              "    </tr>\n",
              "    <tr>\n",
              "      <th>17</th>\n",
              "      <td>1.424170</td>\n",
              "      <td>1.877286</td>\n",
              "      <td>1.686263</td>\n",
              "      <td>1.460766</td>\n",
              "      <td>1.706102</td>\n",
              "      <td>8.154587</td>\n",
              "      <td>GT8</td>\n",
              "    </tr>\n",
              "    <tr>\n",
              "      <th>18</th>\n",
              "      <td>1.305960</td>\n",
              "      <td>1.932381</td>\n",
              "      <td>1.259424</td>\n",
              "      <td>1.740412</td>\n",
              "      <td>1.253161</td>\n",
              "      <td>7.491338</td>\n",
              "      <td>LT8</td>\n",
              "    </tr>\n",
              "    <tr>\n",
              "      <th>19</th>\n",
              "      <td>1.210144</td>\n",
              "      <td>1.839300</td>\n",
              "      <td>1.283545</td>\n",
              "      <td>1.740127</td>\n",
              "      <td>1.730798</td>\n",
              "      <td>7.803913</td>\n",
              "      <td>LT8</td>\n",
              "    </tr>\n",
              "  </tbody>\n",
              "</table>\n",
              "</div>\n",
              "      <button class=\"colab-df-convert\" onclick=\"convertToInteractive('df-15e791db-f5aa-4f73-968b-5ade4eb53fd7')\"\n",
              "              title=\"Convert this dataframe to an interactive table.\"\n",
              "              style=\"display:none;\">\n",
              "        \n",
              "  <svg xmlns=\"http://www.w3.org/2000/svg\" height=\"24px\"viewBox=\"0 0 24 24\"\n",
              "       width=\"24px\">\n",
              "    <path d=\"M0 0h24v24H0V0z\" fill=\"none\"/>\n",
              "    <path d=\"M18.56 5.44l.94 2.06.94-2.06 2.06-.94-2.06-.94-.94-2.06-.94 2.06-2.06.94zm-11 1L8.5 8.5l.94-2.06 2.06-.94-2.06-.94L8.5 2.5l-.94 2.06-2.06.94zm10 10l.94 2.06.94-2.06 2.06-.94-2.06-.94-.94-2.06-.94 2.06-2.06.94z\"/><path d=\"M17.41 7.96l-1.37-1.37c-.4-.4-.92-.59-1.43-.59-.52 0-1.04.2-1.43.59L10.3 9.45l-7.72 7.72c-.78.78-.78 2.05 0 2.83L4 21.41c.39.39.9.59 1.41.59.51 0 1.02-.2 1.41-.59l7.78-7.78 2.81-2.81c.8-.78.8-2.07 0-2.86zM5.41 20L4 18.59l7.72-7.72 1.47 1.35L5.41 20z\"/>\n",
              "  </svg>\n",
              "      </button>\n",
              "      \n",
              "  <style>\n",
              "    .colab-df-container {\n",
              "      display:flex;\n",
              "      flex-wrap:wrap;\n",
              "      gap: 12px;\n",
              "    }\n",
              "\n",
              "    .colab-df-convert {\n",
              "      background-color: #E8F0FE;\n",
              "      border: none;\n",
              "      border-radius: 50%;\n",
              "      cursor: pointer;\n",
              "      display: none;\n",
              "      fill: #1967D2;\n",
              "      height: 32px;\n",
              "      padding: 0 0 0 0;\n",
              "      width: 32px;\n",
              "    }\n",
              "\n",
              "    .colab-df-convert:hover {\n",
              "      background-color: #E2EBFA;\n",
              "      box-shadow: 0px 1px 2px rgba(60, 64, 67, 0.3), 0px 1px 3px 1px rgba(60, 64, 67, 0.15);\n",
              "      fill: #174EA6;\n",
              "    }\n",
              "\n",
              "    [theme=dark] .colab-df-convert {\n",
              "      background-color: #3B4455;\n",
              "      fill: #D2E3FC;\n",
              "    }\n",
              "\n",
              "    [theme=dark] .colab-df-convert:hover {\n",
              "      background-color: #434B5C;\n",
              "      box-shadow: 0px 1px 3px 1px rgba(0, 0, 0, 0.15);\n",
              "      filter: drop-shadow(0px 1px 2px rgba(0, 0, 0, 0.3));\n",
              "      fill: #FFFFFF;\n",
              "    }\n",
              "  </style>\n",
              "\n",
              "      <script>\n",
              "        const buttonEl =\n",
              "          document.querySelector('#df-15e791db-f5aa-4f73-968b-5ade4eb53fd7 button.colab-df-convert');\n",
              "        buttonEl.style.display =\n",
              "          google.colab.kernel.accessAllowed ? 'block' : 'none';\n",
              "\n",
              "        async function convertToInteractive(key) {\n",
              "          const element = document.querySelector('#df-15e791db-f5aa-4f73-968b-5ade4eb53fd7');\n",
              "          const dataTable =\n",
              "            await google.colab.kernel.invokeFunction('convertToInteractive',\n",
              "                                                     [key], {});\n",
              "          if (!dataTable) return;\n",
              "\n",
              "          const docLinkHtml = 'Like what you see? Visit the ' +\n",
              "            '<a target=\"_blank\" href=https://colab.research.google.com/notebooks/data_table.ipynb>data table notebook</a>'\n",
              "            + ' to learn more about interactive tables.';\n",
              "          element.innerHTML = '';\n",
              "          dataTable['output_type'] = 'display_data';\n",
              "          await google.colab.output.renderOutput(dataTable, element);\n",
              "          const docLink = document.createElement('div');\n",
              "          docLink.innerHTML = docLinkHtml;\n",
              "          element.appendChild(docLink);\n",
              "        }\n",
              "      </script>\n",
              "    </div>\n",
              "  </div>\n",
              "  "
            ]
          },
          "metadata": {},
          "execution_count": 14
        }
      ]
    },
    {
      "cell_type": "code",
      "source": [
        "count = 0\n",
        "for i in range(20):\n",
        "  if df['g'][i]==\"LT8\":\n",
        "    count+=1\n",
        "print(f\"The number of rows in the dataframe where the value in the column “g” is “LT8” is {count}\")"
      ],
      "metadata": {
        "colab": {
          "base_uri": "https://localhost:8080/"
        },
        "id": "TiKhMb9RH0gs",
        "outputId": "e5efd256-7b55-40ef-a134-ce33e7b99206"
      },
      "execution_count": null,
      "outputs": [
        {
          "output_type": "stream",
          "name": "stdout",
          "text": [
            "The number of rows in the dataframe where the value in the column “g” is “LT8” is 15\n"
          ]
        }
      ]
    },
    {
      "cell_type": "code",
      "source": [
        "# separating the dataframe based on LT8 and GT8\n",
        "df1 = df[df['g'] == \"LT8\"]\n",
        "print(f\"The standard deviation of the column “f” for the rows where the value in the column “g” is “LT8” is {df1['f'].std(axis=0)}\")"
      ],
      "metadata": {
        "colab": {
          "base_uri": "https://localhost:8080/"
        },
        "id": "SNnkFtfcLnbr",
        "outputId": "a1c14310-87f2-4312-c0cc-cfbe869fa159"
      },
      "execution_count": null,
      "outputs": [
        {
          "output_type": "stream",
          "name": "stdout",
          "text": [
            "The standard deviation of the column “f” for the rows where the value in the column “g” is “LT8” is 0.26674095066456277\n"
          ]
        }
      ]
    },
    {
      "cell_type": "code",
      "source": [
        "df2 = df[df['g'] == \"GT8\"]\n",
        "print(f\"The standard deviation of the column “f” for the rows where the value in the column “g” is “GT8” is {df2['f'].std(axis=0)}\")"
      ],
      "metadata": {
        "colab": {
          "base_uri": "https://localhost:8080/"
        },
        "id": "-oexoGSrO_Qo",
        "outputId": "af804467-f0fc-4708-8df2-6140074a6d8c"
      },
      "execution_count": null,
      "outputs": [
        {
          "output_type": "stream",
          "name": "stdout",
          "text": [
            "The standard deviation of the column “f” for the rows where the value in the column “g” is “GT8” is 0.30413466152615853\n"
          ]
        }
      ]
    },
    {
      "cell_type": "markdown",
      "source": [
        "---"
      ],
      "metadata": {
        "id": "aAyBlGXpD7ST"
      }
    },
    {
      "cell_type": "markdown",
      "source": [
        "**Q12.** Write a small piece of code to explain broadcasting in numpy."
      ],
      "metadata": {
        "id": "G4v4tONBGiD7"
      }
    },
    {
      "cell_type": "code",
      "source": [
        "A = jnp.array([1,3,4,6,3,4,5,6]) \n",
        "B = jnp.array([2])\n",
        "C = A + B\n",
        "print(C)\n",
        "print(f\"The shape A is {A.shape}, B's shape is {B.shape} and shape of C i.e. resultant matrix's shape is {C.shape}\")\n",
        "\n",
        "# A's shape is a 1x8 dimension array but when added with an array of 1X1 dimension, C's shape is 1x8 only which says that \n",
        "# the smaller array is broadcasted to the size of the larger array for addition and to get the final result as a 1x8 array"
      ],
      "metadata": {
        "id": "iBfv-2Z4PWt9",
        "colab": {
          "base_uri": "https://localhost:8080/"
        },
        "outputId": "62d33052-8ee4-4988-f4e0-f660c1f68501"
      },
      "execution_count": null,
      "outputs": [
        {
          "output_type": "stream",
          "name": "stdout",
          "text": [
            "[3 5 6 8 5 6 7 8]\n",
            "The shape A is (8,), B's shape is (1,) and shape of C i.e. resultant matrix's shape is (8,)\n"
          ]
        }
      ]
    },
    {
      "cell_type": "markdown",
      "source": [
        "---"
      ],
      "metadata": {
        "id": "6st165h0EjBZ"
      }
    },
    {
      "cell_type": "markdown",
      "source": [
        "**Q13.** Write a function to compute the argmin of a numpy array. The function should take a numpy array as input and return the index of the minimum element. You can use the np.argmin function to verify your solution."
      ],
      "metadata": {
        "id": "mrFGrXHeHHN5"
      }
    },
    {
      "cell_type": "code",
      "source": [
        "def find_argmin(array):\n",
        "  min_index = 0\n",
        "  min_element = array[0]\n",
        "  for i in range(len(array)):\n",
        "    if(array[i]<min_element): # updation if we find a element less that the current minimum element which is array[i]\n",
        "      min_index = i\n",
        "      min_element = array[i]\n",
        "  return min_index"
      ],
      "metadata": {
        "id": "w4aYpif1HAaZ"
      },
      "execution_count": null,
      "outputs": []
    },
    {
      "cell_type": "code",
      "source": [
        "A = jnp.array([1,5,7,4,34,5,89,0,4,32])\n",
        "print(find_argmin(A),np.argmin(A))\n",
        "# Our implementation of the argmin function is correct as the result matches with the inbuilt function.\n",
        "# The lowest element is at index 7 which is 0."
      ],
      "metadata": {
        "colab": {
          "base_uri": "https://localhost:8080/"
        },
        "id": "XzMD_61EHsUm",
        "outputId": "2133846c-ee37-471a-ce5d-ccf6a61d7e8d"
      },
      "execution_count": null,
      "outputs": [
        {
          "output_type": "stream",
          "name": "stdout",
          "text": [
            "7 7\n"
          ]
        }
      ]
    },
    {
      "cell_type": "markdown",
      "source": [
        "## End of Assignment"
      ],
      "metadata": {
        "id": "zxyP6w5xFSp9"
      }
    }
  ]
}